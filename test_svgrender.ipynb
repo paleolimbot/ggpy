{
 "cells": [
  {
   "cell_type": "code",
   "execution_count": 16,
   "metadata": {
    "collapsed": false
   },
   "outputs": [],
   "source": [
    "from ggpy._render.svg import SVGRenderer\n",
    "from ggpy.theme_default import theme_grey\n",
    "from ggpy._grob.grob import GTree\n",
    "\n",
    "class svg(SVGRenderer):\n",
    "    \n",
    "    def __init__(self, grob):\n",
    "        self.grob = grob\n",
    "    \n",
    "    def _repr_svg_(self):\n",
    "        r = SVGRenderer()\n",
    "        return r.render_svg(self.grob)\n"
   ]
  },
  {
   "cell_type": "code",
   "execution_count": 2,
   "metadata": {
    "collapsed": false
   },
   "outputs": [
    {
     "data": {
      "text/plain": [
       "RectElement(fill='grey92', size='0.5', colour='nan', linetype='1')"
      ]
     },
     "execution_count": 2,
     "metadata": {},
     "output_type": "execute_result"
    }
   ],
   "source": [
    "t = theme_grey()\n",
    "t.element('panel_background')"
   ]
  },
  {
   "cell_type": "code",
   "execution_count": 3,
   "metadata": {
    "collapsed": false
   },
   "outputs": [
    {
     "data": {
      "text/plain": [
       "TextElement(colour='black', margin='Margin(t=0.0, r=0.0, b=6.6, l=0.0, unit='pt')', size='13.2', lineheight='0.9', vjust='0.5', hjust='0', family='Arial', angle='0', face='plain')"
      ]
     },
     "execution_count": 3,
     "metadata": {},
     "output_type": "execute_result"
    }
   ],
   "source": [
    "t.element('plot_title')"
   ]
  },
  {
   "cell_type": "code",
   "execution_count": 4,
   "metadata": {
    "collapsed": false
   },
   "outputs": [
    {
     "data": {
      "text/plain": [
       "LineElement(lineend='butt', colour='black', size='0.5', linetype='1')"
      ]
     },
     "execution_count": 4,
     "metadata": {},
     "output_type": "execute_result"
    }
   ],
   "source": [
    "t.element('axis_line')"
   ]
  },
  {
   "cell_type": "code",
   "execution_count": 19,
   "metadata": {
    "collapsed": false
   },
   "outputs": [
    {
     "data": {
      "text/plain": [
       "RectGrob({'x': 12, 'width_': 40, 'gp': GPar(lty='1', lwd='1.4226377952755906', fill='#555555', col='nan'), 'y': 12, 'height_': 50})"
      ]
     },
     "execution_count": 19,
     "metadata": {},
     "output_type": "execute_result"
    }
   ],
   "source": [
    "rect = t.render_element('panel_background', x=12, y=12, width=40, height=50)\n",
    "rect.gp['fill'] = '#555555'\n",
    "rect"
   ]
  },
  {
   "cell_type": "code",
   "execution_count": 6,
   "metadata": {
    "collapsed": false
   },
   "outputs": [
    {
     "data": {
      "text/plain": [
       "TextGrob({'_tkfont': <tkinter.font.Font object at 0x10716c208>, 'gp': GPar(fontface='plain', col='black', fontsize='13', lineheight='0.9', fontfamily='Arial'), '_height': 15, 'expand_x': False, 'hjust': 0, '_width': 85, 'x': 100, 'expand_y': False, 'vjust': 0.5, 'y': 50, 'angle': 0, 'label': 'my new label!'})"
      ]
     },
     "execution_count": 6,
     "metadata": {},
     "output_type": "execute_result"
    }
   ],
   "source": [
    "text = t.render_element('plot_title', x=100, y=50, label=\"my new label!\")\n",
    "text"
   ]
  },
  {
   "cell_type": "code",
   "execution_count": 7,
   "metadata": {
    "collapsed": false
   },
   "outputs": [
    {
     "data": {
      "text/plain": [
       "PolylineGrob({'x': (0, 50, 100, 200), 'default_units': 'npc', 'gp': GPar(lty='1', lwd='1.4226377952755906', lineend='butt', col='black'), 'id_lengths': None, 'y': (100, 100, 12, 5)})"
      ]
     },
     "execution_count": 7,
     "metadata": {},
     "output_type": "execute_result"
    }
   ],
   "source": [
    "line = t.render_element('axis_line', x=(0, 50, 100, 200), y=(100, 100, 12, 5))\n",
    "line"
   ]
  },
  {
   "cell_type": "code",
   "execution_count": 20,
   "metadata": {
    "collapsed": false
   },
   "outputs": [
    {
     "data": {
      "text/plain": [
       "'<svg baseProfile=\"full\" height=\"51\" version=\"1.1\" viewBox=\"0 0 41 51\" width=\"41\" xmlns=\"http://www.w3.org/2000/svg\" xmlns:ev=\"http://www.w3.org/2001/xml-events\" xmlns:xlink=\"http://www.w3.org/1999/xlink\"><defs /><style type=\"text/css\"><![CDATA[line, polyline, path, rect, circle {fill: none; stroke: #000000; stroke-linecap: round; stroke-linejoin: round; stroke-miterlimit: 10.00; }]]></style><rect fill=\"#FFFFFF\" height=\"100%\" stroke=\"none\" width=\"100%\" x=\"0\" y=\"0\" /><rect height=\"50\" style=\"lty: 1; stroke-width: 1.4226377952755906; fill: #555555; stroke: none;\" width=\"40\" x=\"12\" y=\"12\" /></svg>'"
      ]
     },
     "execution_count": 20,
     "metadata": {},
     "output_type": "execute_result"
    }
   ],
   "source": [
    "svg(rect)._repr_svg_()"
   ]
  },
  {
   "cell_type": "code",
   "execution_count": 21,
   "metadata": {
    "collapsed": false
   },
   "outputs": [
    {
     "data": {
      "image/svg+xml": [
       "<svg baseProfile=\"full\" height=\"51\" version=\"1.1\" viewBox=\"0 0 41 51\" width=\"41\" xmlns=\"http://www.w3.org/2000/svg\" xmlns:ev=\"http://www.w3.org/2001/xml-events\" xmlns:xlink=\"http://www.w3.org/1999/xlink\"><defs /><style type=\"text/css\"><![CDATA[line, polyline, path, rect, circle {fill: none; stroke: #000000; stroke-linecap: round; stroke-linejoin: round; stroke-miterlimit: 10.00; }]]></style><rect fill=\"#FFFFFF\" height=\"100%\" stroke=\"none\" width=\"100%\" x=\"0\" y=\"0\" /><rect height=\"50\" style=\"lty: 1; stroke-width: 1.4226377952755906; fill: #555555; stroke: none;\" width=\"40\" x=\"12\" y=\"12\" /></svg>"
      ],
      "text/plain": [
       "<__main__.svg at 0x10b2c5f98>"
      ]
     },
     "execution_count": 21,
     "metadata": {},
     "output_type": "execute_result"
    }
   ],
   "source": [
    "svg(rect)"
   ]
  },
  {
   "cell_type": "code",
   "execution_count": 10,
   "metadata": {
    "collapsed": false
   },
   "outputs": [
    {
     "data": {
      "text/plain": [
       "'<svg baseProfile=\"full\" height=\"16\" version=\"1.1\" viewBox=\"0 0 86 16\" width=\"86\" xmlns=\"http://www.w3.org/2000/svg\" xmlns:ev=\"http://www.w3.org/2001/xml-events\" xmlns:xlink=\"http://www.w3.org/1999/xlink\"><defs /><style type=\"text/css\"><![CDATA[line, polyline, path, rect, circle {fill: none; stroke: #000000; stroke-linecap: round; stroke-linejoin: round; stroke-miterlimit: 10.00; }]]></style><rect fill=\"#FFFFFF\" height=\"100%\" stroke=\"none\" width=\"100%\" x=\"0\" y=\"0\" /><text style=\"fontface: plain; stroke: black; font-family: Arial; lineheight: 0.9; font-size: 13pt;\" transform=\"translate(0, -7.5)\" x=\"100\" y=\"50\">my new label!</text></svg>'"
      ]
     },
     "execution_count": 10,
     "metadata": {},
     "output_type": "execute_result"
    }
   ],
   "source": [
    "svg(text)._repr_svg_()"
   ]
  },
  {
   "cell_type": "code",
   "execution_count": 11,
   "metadata": {
    "collapsed": false
   },
   "outputs": [
    {
     "data": {
      "image/svg+xml": [
       "<svg baseProfile=\"full\" height=\"16\" version=\"1.1\" viewBox=\"0 0 86 16\" width=\"86\" xmlns=\"http://www.w3.org/2000/svg\" xmlns:ev=\"http://www.w3.org/2001/xml-events\" xmlns:xlink=\"http://www.w3.org/1999/xlink\"><defs /><style type=\"text/css\"><![CDATA[line, polyline, path, rect, circle {fill: none; stroke: #000000; stroke-linecap: round; stroke-linejoin: round; stroke-miterlimit: 10.00; }]]></style><rect fill=\"#FFFFFF\" height=\"100%\" stroke=\"none\" width=\"100%\" x=\"0\" y=\"0\" /><text style=\"fontface: plain; stroke: black; font-family: Arial; lineheight: 0.9; font-size: 13pt;\" transform=\"translate(0, -7.5)\" x=\"100\" y=\"50\">my new label!</text></svg>"
      ],
      "text/plain": [
       "<__main__.svg at 0x10716c588>"
      ]
     },
     "execution_count": 11,
     "metadata": {},
     "output_type": "execute_result"
    }
   ],
   "source": [
    "svg(text)"
   ]
  },
  {
   "cell_type": "code",
   "execution_count": 12,
   "metadata": {
    "collapsed": false
   },
   "outputs": [
    {
     "data": {
      "text/plain": [
       "'<svg baseProfile=\"full\" height=\"96\" version=\"1.1\" viewBox=\"0 0 201 96\" width=\"201\" xmlns=\"http://www.w3.org/2000/svg\" xmlns:ev=\"http://www.w3.org/2001/xml-events\" xmlns:xlink=\"http://www.w3.org/1999/xlink\"><defs /><style type=\"text/css\"><![CDATA[line, polyline, path, rect, circle {fill: none; stroke: #000000; stroke-linecap: round; stroke-linejoin: round; stroke-miterlimit: 10.00; }]]></style><rect fill=\"#FFFFFF\" height=\"100%\" stroke=\"none\" width=\"100%\" x=\"0\" y=\"0\" /><polyline points=\"0,100 50,100 100,12 200,5\" style=\"lty: 1; stroke-width: 1.4226377952755906; stroke: black; stroke-linecap: butt;\" /></svg>'"
      ]
     },
     "execution_count": 12,
     "metadata": {},
     "output_type": "execute_result"
    }
   ],
   "source": [
    "svg(line)._repr_svg_()"
   ]
  },
  {
   "cell_type": "code",
   "execution_count": 22,
   "metadata": {
    "collapsed": false
   },
   "outputs": [
    {
     "data": {
      "image/svg+xml": [
       "<svg baseProfile=\"full\" height=\"96\" version=\"1.1\" viewBox=\"0 0 201 96\" width=\"201\" xmlns=\"http://www.w3.org/2000/svg\" xmlns:ev=\"http://www.w3.org/2001/xml-events\" xmlns:xlink=\"http://www.w3.org/1999/xlink\"><defs /><style type=\"text/css\"><![CDATA[line, polyline, path, rect, circle {fill: none; stroke: #000000; stroke-linecap: round; stroke-linejoin: round; stroke-miterlimit: 10.00; }]]></style><rect fill=\"#FFFFFF\" height=\"100%\" stroke=\"none\" width=\"100%\" x=\"0\" y=\"0\" /><polyline points=\"0,100 50,100 100,12 200,5\" style=\"lty: 1; stroke-width: 1.4226377952755906; stroke: #000000; stroke-linecap: butt;\" /></svg>"
      ],
      "text/plain": [
       "<__main__.svg at 0x10b2c5eb8>"
      ]
     },
     "execution_count": 22,
     "metadata": {},
     "output_type": "execute_result"
    }
   ],
   "source": [
    "svg(line)"
   ]
  },
  {
   "cell_type": "code",
   "execution_count": 23,
   "metadata": {
    "collapsed": false
   },
   "outputs": [
    {
     "data": {
      "image/svg+xml": [
       "<svg baseProfile=\"full\" height=\"96\" version=\"1.1\" viewBox=\"0 0 201 96\" width=\"201\" xmlns=\"http://www.w3.org/2000/svg\" xmlns:ev=\"http://www.w3.org/2001/xml-events\" xmlns:xlink=\"http://www.w3.org/1999/xlink\"><defs /><style type=\"text/css\"><![CDATA[line, polyline, path, rect, circle {fill: none; stroke: #000000; stroke-linecap: round; stroke-linejoin: round; stroke-miterlimit: 10.00; }]]></style><rect fill=\"#FFFFFF\" height=\"100%\" stroke=\"none\" width=\"100%\" x=\"0\" y=\"0\" /><polyline points=\"0,100 50,100 100,12 200,5\" style=\"lty: 1; stroke-width: 1.4226377952755906; stroke: #000000; stroke-linecap: butt;\" /></svg>"
      ],
      "text/plain": [
       "<__main__.svg at 0x10b3191d0>"
      ]
     },
     "execution_count": 23,
     "metadata": {},
     "output_type": "execute_result"
    }
   ],
   "source": [
    "line.gp['col'] = '#000000'\n",
    "svg(line)"
   ]
  },
  {
   "cell_type": "code",
   "execution_count": 24,
   "metadata": {
    "collapsed": false
   },
   "outputs": [
    {
     "data": {
      "image/svg+xml": [
       "<svg baseProfile=\"full\" height=\"96\" version=\"1.1\" viewBox=\"0 0 201 96\" width=\"201\" xmlns=\"http://www.w3.org/2000/svg\" xmlns:ev=\"http://www.w3.org/2001/xml-events\" xmlns:xlink=\"http://www.w3.org/1999/xlink\"><defs /><style type=\"text/css\"><![CDATA[line, polyline, path, rect, circle {fill: none; stroke: #000000; stroke-linecap: round; stroke-linejoin: round; stroke-miterlimit: 10.00; }]]></style><rect fill=\"#FFFFFF\" height=\"100%\" stroke=\"none\" width=\"100%\" x=\"0\" y=\"0\" /><rect height=\"50\" style=\"lty: 1; stroke-width: 1.4226377952755906; fill: #555555; stroke: none;\" width=\"40\" x=\"12\" y=\"12\" /><text style=\"fontface: plain; stroke: black; font-family: Arial; lineheight: 0.9; font-size: 13pt;\" transform=\"translate(0, -7.5)\" x=\"100\" y=\"50\">my new label!</text><polyline points=\"0,100 50,100 100,12 200,5\" style=\"lty: 1; stroke-width: 1.4226377952755906; stroke: #000000; stroke-linecap: butt;\" /></svg>"
      ],
      "text/plain": [
       "<__main__.svg at 0x10b3192e8>"
      ]
     },
     "execution_count": 24,
     "metadata": {},
     "output_type": "execute_result"
    }
   ],
   "source": [
    "tree = GTree(rect, text, line)\n",
    "svg(tree)"
   ]
  },
  {
   "cell_type": "code",
   "execution_count": null,
   "metadata": {
    "collapsed": true
   },
   "outputs": [],
   "source": []
  }
 ],
 "metadata": {
  "kernelspec": {
   "display_name": "Python 3",
   "language": "python",
   "name": "python3"
  },
  "language_info": {
   "codemirror_mode": {
    "name": "ipython",
    "version": 3
   },
   "file_extension": ".py",
   "mimetype": "text/x-python",
   "name": "python",
   "nbconvert_exporter": "python",
   "pygments_lexer": "ipython3",
   "version": "3.4.2"
  }
 },
 "nbformat": 4,
 "nbformat_minor": 0
}
