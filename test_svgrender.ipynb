{
 "cells": [
  {
   "cell_type": "code",
   "execution_count": 1,
   "metadata": {
    "collapsed": false
   },
   "outputs": [],
   "source": [
    "from ggpy._render.svg import SVGRenderer\n",
    "from ggpy.theme_default import theme_grey\n",
    "from ggpy._grob.grob import GTree\n",
    "\n",
    "class svg(SVGRenderer):\n",
    "    \n",
    "    def __init__(self, grob):\n",
    "        self.grob = grob\n",
    "    \n",
    "    def _repr_svg_(self):\n",
    "        r = SVGRenderer()\n",
    "        return r.render_svg(self.grob)\n"
   ]
  },
  {
   "cell_type": "code",
   "execution_count": 2,
   "metadata": {
    "collapsed": false
   },
   "outputs": [
    {
     "data": {
      "text/plain": [
       "RectElement(colour='nan', size='0.5', linetype='1', fill='grey92')"
      ]
     },
     "execution_count": 2,
     "metadata": {},
     "output_type": "execute_result"
    }
   ],
   "source": [
    "t = theme_grey()\n",
    "t.element('panel_background')"
   ]
  },
  {
   "cell_type": "code",
   "execution_count": 3,
   "metadata": {
    "collapsed": false
   },
   "outputs": [
    {
     "data": {
      "text/plain": [
       "TextElement(lineheight='0.9', size='13.2', face='plain', colour='black', vjust='0.5', angle='0', margin='Margin(t=0.0, r=0.0, b=6.6, l=0.0, unit='pt')', family='Arial', hjust='0')"
      ]
     },
     "execution_count": 3,
     "metadata": {},
     "output_type": "execute_result"
    }
   ],
   "source": [
    "t.element('plot_title')"
   ]
  },
  {
   "cell_type": "code",
   "execution_count": 4,
   "metadata": {
    "collapsed": false
   },
   "outputs": [
    {
     "data": {
      "text/plain": [
       "LineElement(lineend='butt', size='0.5', colour='black', linetype='1')"
      ]
     },
     "execution_count": 4,
     "metadata": {},
     "output_type": "execute_result"
    }
   ],
   "source": [
    "t.element('axis_line')"
   ]
  },
  {
   "cell_type": "code",
   "execution_count": 5,
   "metadata": {
    "collapsed": false
   },
   "outputs": [
    {
     "data": {
      "text/plain": [
       "RectGrob({'gp': GPar(lwd='1.4226377952755906', col='nan', fill='#555555', lty='1'), 'width_': 40, 'x': 12, 'y': 12, 'height_': 50})"
      ]
     },
     "execution_count": 5,
     "metadata": {},
     "output_type": "execute_result"
    }
   ],
   "source": [
    "rect = t.render_element('panel_background', x=12, y=12, width=40, height=50)\n",
    "rect.gp['fill'] = '#555555'\n",
    "rect"
   ]
  },
  {
   "cell_type": "code",
   "execution_count": 6,
   "metadata": {
    "collapsed": false
   },
   "outputs": [
    {
     "data": {
      "text/plain": [
       "TextGrob({'_height': 18.0, '_width': 102.0, '_tkfont': <tkinter.font.Font object at 0x1069635f8>, 'vjust': 0.5, 'y': 50, 'expand_x': False, 'label': 'my new label!', 'expand_y': False, 'gp': GPar(fontfamily='Arial', fontface='plain', fontsize='13', col='black', lineheight='0.9'), 'hjust': 0, 'x': 100, 'angle': 0})"
      ]
     },
     "execution_count": 6,
     "metadata": {},
     "output_type": "execute_result"
    }
   ],
   "source": [
    "text = t.render_element('plot_title', x=100, y=50, label=\"my new label!\")\n",
    "text"
   ]
  },
  {
   "cell_type": "code",
   "execution_count": 7,
   "metadata": {
    "collapsed": false
   },
   "outputs": [
    {
     "data": {
      "text/plain": [
       "PolylineGrob({'default_units': 'npc', 'gp': GPar(lineend='butt', lwd='1.4226377952755906', col='black', lty='1'), 'x': (0, 50, 100, 200), 'y': (100, 100, 12, 5), 'id_lengths': None})"
      ]
     },
     "execution_count": 7,
     "metadata": {},
     "output_type": "execute_result"
    }
   ],
   "source": [
    "line = t.render_element('axis_line', x=(0, 50, 100, 200), y=(100, 100, 12, 5))\n",
    "line"
   ]
  },
  {
   "cell_type": "code",
   "execution_count": 8,
   "metadata": {
    "collapsed": false
   },
   "outputs": [
    {
     "data": {
      "text/plain": [
       "'<svg baseProfile=\"full\" height=\"62\" version=\"1.1\" viewBox=\"0 0 52 62\" width=\"52\" xmlns=\"http://www.w3.org/2000/svg\" xmlns:ev=\"http://www.w3.org/2001/xml-events\" xmlns:xlink=\"http://www.w3.org/1999/xlink\"><defs /><style type=\"text/css\"><![CDATA[line, polyline, path, rect, circle {fill: none; stroke: #000000; stroke-linecap: round; stroke-linejoin: round; stroke-miterlimit: 10.00; }]]></style><rect fill=\"#FFFFFF\" height=\"100%\" stroke=\"#FFFFFF\" width=\"100%\" x=\"0\" y=\"0\" /><rect height=\"50\" style=\"stroke: none; fill: #555555; stroke-width: 1.4226377952755906; linetype: 1;\" width=\"40\" x=\"12\" y=\"0\" /></svg>'"
      ]
     },
     "execution_count": 8,
     "metadata": {},
     "output_type": "execute_result"
    }
   ],
   "source": [
    "svg(rect)._repr_svg_()"
   ]
  },
  {
   "cell_type": "code",
   "execution_count": 9,
   "metadata": {
    "collapsed": false
   },
   "outputs": [
    {
     "data": {
      "image/svg+xml": [
       "<svg baseProfile=\"full\" height=\"62\" version=\"1.1\" viewBox=\"0 0 52 62\" width=\"52\" xmlns=\"http://www.w3.org/2000/svg\" xmlns:ev=\"http://www.w3.org/2001/xml-events\" xmlns:xlink=\"http://www.w3.org/1999/xlink\"><defs /><style type=\"text/css\"><![CDATA[line, polyline, path, rect, circle {fill: none; stroke: #000000; stroke-linecap: round; stroke-linejoin: round; stroke-miterlimit: 10.00; }]]></style><rect fill=\"#FFFFFF\" height=\"100%\" stroke=\"#FFFFFF\" width=\"100%\" x=\"0\" y=\"0\" /><rect height=\"50\" style=\"stroke: none; fill: #555555; stroke-width: 1.4226377952755906; linetype: 1;\" width=\"40\" x=\"12\" y=\"0\" /></svg>"
      ],
      "text/plain": [
       "<__main__.svg at 0x106963080>"
      ]
     },
     "execution_count": 9,
     "metadata": {},
     "output_type": "execute_result"
    }
   ],
   "source": [
    "svg(rect)"
   ]
  },
  {
   "cell_type": "code",
   "execution_count": 10,
   "metadata": {
    "collapsed": false
   },
   "outputs": [
    {
     "data": {
      "text/plain": [
       "'<svg baseProfile=\"full\" height=\"59.0\" version=\"1.1\" viewBox=\"0 0 202.0 59.0\" width=\"202.0\" xmlns=\"http://www.w3.org/2000/svg\" xmlns:ev=\"http://www.w3.org/2001/xml-events\" xmlns:xlink=\"http://www.w3.org/1999/xlink\"><defs /><style type=\"text/css\"><![CDATA[line, polyline, path, rect, circle {fill: none; stroke: #000000; stroke-linecap: round; stroke-linejoin: round; stroke-miterlimit: 10.00; }]]></style><rect fill=\"#FFFFFF\" height=\"100%\" stroke=\"#FFFFFF\" width=\"100%\" x=\"0\" y=\"0\" /><text style=\"lineheight: 0.9; color: black; font-face: plain; stroke: none; font-size: 13pt; font-family: Arial;\" transform=\"translate(0.0, 9.0)\" x=\"100\" y=\"9.0\">my new label!</text></svg>'"
      ]
     },
     "execution_count": 10,
     "metadata": {},
     "output_type": "execute_result"
    }
   ],
   "source": [
    "svg(text)._repr_svg_()"
   ]
  },
  {
   "cell_type": "code",
   "execution_count": 11,
   "metadata": {
    "collapsed": false
   },
   "outputs": [
    {
     "data": {
      "image/svg+xml": [
       "<svg baseProfile=\"full\" height=\"59.0\" version=\"1.1\" viewBox=\"0 0 202.0 59.0\" width=\"202.0\" xmlns=\"http://www.w3.org/2000/svg\" xmlns:ev=\"http://www.w3.org/2001/xml-events\" xmlns:xlink=\"http://www.w3.org/1999/xlink\"><defs /><style type=\"text/css\"><![CDATA[line, polyline, path, rect, circle {fill: none; stroke: #000000; stroke-linecap: round; stroke-linejoin: round; stroke-miterlimit: 10.00; }]]></style><rect fill=\"#FFFFFF\" height=\"100%\" stroke=\"#FFFFFF\" width=\"100%\" x=\"0\" y=\"0\" /><text style=\"lineheight: 0.9; color: black; font-face: plain; stroke: none; font-size: 13pt; font-family: Arial;\" transform=\"translate(0.0, 9.0)\" x=\"100\" y=\"9.0\">my new label!</text></svg>"
      ],
      "text/plain": [
       "<__main__.svg at 0x1069632e8>"
      ]
     },
     "execution_count": 11,
     "metadata": {},
     "output_type": "execute_result"
    }
   ],
   "source": [
    "svg(text)"
   ]
  },
  {
   "cell_type": "code",
   "execution_count": 12,
   "metadata": {
    "collapsed": false
   },
   "outputs": [
    {
     "data": {
      "text/plain": [
       "'<svg baseProfile=\"full\" height=\"100\" version=\"1.1\" viewBox=\"0 0 200 100\" width=\"200\" xmlns=\"http://www.w3.org/2000/svg\" xmlns:ev=\"http://www.w3.org/2001/xml-events\" xmlns:xlink=\"http://www.w3.org/1999/xlink\"><defs /><style type=\"text/css\"><![CDATA[line, polyline, path, rect, circle {fill: none; stroke: #000000; stroke-linecap: round; stroke-linejoin: round; stroke-miterlimit: 10.00; }]]></style><rect fill=\"#FFFFFF\" height=\"100%\" stroke=\"#FFFFFF\" width=\"100%\" x=\"0\" y=\"0\" /><polyline points=\"0,0 50,0 100,88 200,95\" style=\"stroke: black; stroke-width: 1.4226377952755906; stroke-linecap: butt; linetype: 1;\" /></svg>'"
      ]
     },
     "execution_count": 12,
     "metadata": {},
     "output_type": "execute_result"
    }
   ],
   "source": [
    "svg(line)._repr_svg_()"
   ]
  },
  {
   "cell_type": "code",
   "execution_count": 13,
   "metadata": {
    "collapsed": false
   },
   "outputs": [
    {
     "data": {
      "image/svg+xml": [
       "<svg baseProfile=\"full\" height=\"100\" version=\"1.1\" viewBox=\"0 0 200 100\" width=\"200\" xmlns=\"http://www.w3.org/2000/svg\" xmlns:ev=\"http://www.w3.org/2001/xml-events\" xmlns:xlink=\"http://www.w3.org/1999/xlink\"><defs /><style type=\"text/css\"><![CDATA[line, polyline, path, rect, circle {fill: none; stroke: #000000; stroke-linecap: round; stroke-linejoin: round; stroke-miterlimit: 10.00; }]]></style><rect fill=\"#FFFFFF\" height=\"100%\" stroke=\"#FFFFFF\" width=\"100%\" x=\"0\" y=\"0\" /><polyline points=\"0,0 50,0 100,88 200,95\" style=\"stroke: black; stroke-width: 1.4226377952755906; stroke-linecap: butt; linetype: 1;\" /></svg>"
      ],
      "text/plain": [
       "<__main__.svg at 0x106963d68>"
      ]
     },
     "execution_count": 13,
     "metadata": {},
     "output_type": "execute_result"
    }
   ],
   "source": [
    "svg(line)"
   ]
  },
  {
   "cell_type": "code",
   "execution_count": 14,
   "metadata": {
    "collapsed": false
   },
   "outputs": [
    {
     "data": {
      "image/svg+xml": [
       "<svg baseProfile=\"full\" height=\"100\" version=\"1.1\" viewBox=\"0 0 200 100\" width=\"200\" xmlns=\"http://www.w3.org/2000/svg\" xmlns:ev=\"http://www.w3.org/2001/xml-events\" xmlns:xlink=\"http://www.w3.org/1999/xlink\"><defs /><style type=\"text/css\"><![CDATA[line, polyline, path, rect, circle {fill: none; stroke: #000000; stroke-linecap: round; stroke-linejoin: round; stroke-miterlimit: 10.00; }]]></style><rect fill=\"#FFFFFF\" height=\"100%\" stroke=\"#FFFFFF\" width=\"100%\" x=\"0\" y=\"0\" /><polyline points=\"0,0 50,0 100,88 200,95\" style=\"stroke: #000000; stroke-width: 1.4226377952755906; stroke-linecap: butt; linetype: 1;\" /></svg>"
      ],
      "text/plain": [
       "<__main__.svg at 0x106963860>"
      ]
     },
     "execution_count": 14,
     "metadata": {},
     "output_type": "execute_result"
    }
   ],
   "source": [
    "line.gp['col'] = '#000000'\n",
    "svg(line)"
   ]
  },
  {
   "cell_type": "code",
   "execution_count": 15,
   "metadata": {
    "collapsed": false
   },
   "outputs": [
    {
     "data": {
      "image/svg+xml": [
       "<svg baseProfile=\"full\" height=\"100\" version=\"1.1\" viewBox=\"0 0 202.0 100\" width=\"202.0\" xmlns=\"http://www.w3.org/2000/svg\" xmlns:ev=\"http://www.w3.org/2001/xml-events\" xmlns:xlink=\"http://www.w3.org/1999/xlink\"><defs /><style type=\"text/css\"><![CDATA[line, polyline, path, rect, circle {fill: none; stroke: #000000; stroke-linecap: round; stroke-linejoin: round; stroke-miterlimit: 10.00; }]]></style><rect fill=\"#FFFFFF\" height=\"100%\" stroke=\"#FFFFFF\" width=\"100%\" x=\"0\" y=\"0\" /><rect height=\"50\" style=\"stroke: none; fill: #555555; stroke-width: 1.4226377952755906; linetype: 1;\" width=\"40\" x=\"12\" y=\"38\" /><text style=\"lineheight: 0.9; color: black; font-face: plain; stroke: none; font-size: 13pt; font-family: Arial;\" transform=\"translate(0.0, 9.0)\" x=\"100\" y=\"50\">my new label!</text><polyline points=\"0,0 50,0 100,88 200,95\" style=\"stroke: #000000; stroke-width: 1.4226377952755906; stroke-linecap: butt; linetype: 1;\" /></svg>"
      ],
      "text/plain": [
       "<__main__.svg at 0x106963e48>"
      ]
     },
     "execution_count": 15,
     "metadata": {},
     "output_type": "execute_result"
    }
   ],
   "source": [
    "tree = GTree(rect, text, line)\n",
    "svg(tree)"
   ]
  },
  {
   "cell_type": "code",
   "execution_count": null,
   "metadata": {
    "collapsed": true
   },
   "outputs": [],
   "source": []
  }
 ],
 "metadata": {
  "kernelspec": {
   "display_name": "Python 3",
   "language": "python",
   "name": "python3"
  },
  "language_info": {
   "codemirror_mode": {
    "name": "ipython",
    "version": 3
   },
   "file_extension": ".py",
   "mimetype": "text/x-python",
   "name": "python",
   "nbconvert_exporter": "python",
   "pygments_lexer": "ipython3",
   "version": "3.4.2"
  }
 },
 "nbformat": 4,
 "nbformat_minor": 0
}
