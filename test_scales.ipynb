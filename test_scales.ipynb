{
 "cells": [
  {
   "cell_type": "code",
   "execution_count": 13,
   "metadata": {
    "collapsed": true
   },
   "outputs": [],
   "source": [
    "from ggpy.scale import ScaleContinuous, ScaleDiscrete\n",
    "from ggpy.aes import aes\n",
    "import pandas as pd\n",
    "from ggpy._na import NA"
   ]
  },
  {
   "cell_type": "code",
   "execution_count": 14,
   "metadata": {
    "collapsed": false
   },
   "outputs": [
    {
     "data": {
      "text/plain": [
       "<<class 'ggpy.scale.ScaleContinuous'>>\n",
       "  Range: nan -- nan\n",
       "  Limits: 0.000 -- 1.000\n",
       "  Breaks: {'major_source': array([], dtype=float64), 'minor_source': array([], dtype=float64), 'range': (0.0, 1.0), 'major': array([], dtype=float64), 'labels': array([], dtype=float64), 'minor': array([], dtype=float64)}"
      ]
     },
     "execution_count": 14,
     "metadata": {},
     "output_type": "execute_result"
    }
   ],
   "source": [
    "sc = ScaleContinuous()\n",
    "sc"
   ]
  },
  {
   "cell_type": "code",
   "execution_count": 15,
   "metadata": {
    "collapsed": false
   },
   "outputs": [
    {
     "data": {
      "text/plain": [
       "{'labels': array([], dtype=float64),\n",
       " 'major': array([], dtype=float64),\n",
       " 'major_source': array([], dtype=float64),\n",
       " 'minor': array([], dtype=float64),\n",
       " 'minor_source': array([], dtype=float64),\n",
       " 'range': (0.0, 1.0)}"
      ]
     },
     "execution_count": 15,
     "metadata": {},
     "output_type": "execute_result"
    }
   ],
   "source": [
    "sc.break_info()"
   ]
  },
  {
   "cell_type": "code",
   "execution_count": 16,
   "metadata": {
    "collapsed": false
   },
   "outputs": [
    {
     "data": {
      "text/html": [
       "<div>\n",
       "<table border=\"1\" class=\"dataframe\">\n",
       "  <thead>\n",
       "    <tr style=\"text-align: right;\">\n",
       "      <th></th>\n",
       "      <th>a</th>\n",
       "      <th>b</th>\n",
       "    </tr>\n",
       "  </thead>\n",
       "  <tbody>\n",
       "    <tr>\n",
       "      <th>0</th>\n",
       "      <td>0</td>\n",
       "      <td>0.0</td>\n",
       "    </tr>\n",
       "    <tr>\n",
       "      <th>1</th>\n",
       "      <td>1</td>\n",
       "      <td>0.1</td>\n",
       "    </tr>\n",
       "    <tr>\n",
       "      <th>2</th>\n",
       "      <td>2</td>\n",
       "      <td>0.2</td>\n",
       "    </tr>\n",
       "    <tr>\n",
       "      <th>3</th>\n",
       "      <td>3</td>\n",
       "      <td>0.3</td>\n",
       "    </tr>\n",
       "    <tr>\n",
       "      <th>4</th>\n",
       "      <td>4</td>\n",
       "      <td>0.4</td>\n",
       "    </tr>\n",
       "    <tr>\n",
       "      <th>5</th>\n",
       "      <td>5</td>\n",
       "      <td>0.5</td>\n",
       "    </tr>\n",
       "    <tr>\n",
       "      <th>6</th>\n",
       "      <td>6</td>\n",
       "      <td>0.6</td>\n",
       "    </tr>\n",
       "    <tr>\n",
       "      <th>7</th>\n",
       "      <td>7</td>\n",
       "      <td>0.7</td>\n",
       "    </tr>\n",
       "    <tr>\n",
       "      <th>8</th>\n",
       "      <td>8</td>\n",
       "      <td>0.8</td>\n",
       "    </tr>\n",
       "    <tr>\n",
       "      <th>9</th>\n",
       "      <td>9</td>\n",
       "      <td>0.9</td>\n",
       "    </tr>\n",
       "    <tr>\n",
       "      <th>10</th>\n",
       "      <td>10</td>\n",
       "      <td>1.0</td>\n",
       "    </tr>\n",
       "  </tbody>\n",
       "</table>\n",
       "</div>"
      ],
      "text/plain": [
       "     a    b\n",
       "0    0  0.0\n",
       "1    1  0.1\n",
       "2    2  0.2\n",
       "3    3  0.3\n",
       "4    4  0.4\n",
       "5    5  0.5\n",
       "6    6  0.6\n",
       "7    7  0.7\n",
       "8    8  0.8\n",
       "9    9  0.9\n",
       "10  10  1.0"
      ]
     },
     "execution_count": 16,
     "metadata": {},
     "output_type": "execute_result"
    }
   ],
   "source": [
    "a = pd.DataFrame({'a':(0, 1, 2, 3, 4, 5, 6, 7, 8, 9, 10), 'b':(0, .1, .2, .3, .4, .5, .6, .7, .8, .9, 1)})\n",
    "a"
   ]
  },
  {
   "cell_type": "code",
   "execution_count": 17,
   "metadata": {
    "collapsed": false
   },
   "outputs": [
    {
     "data": {
      "text/plain": [
       "<<class 'ggpy.scale.ScaleContinuous'>>\n",
       "  Range: 0.000 -- 10.000\n",
       "  Limits: 0.000 -- 10.000\n",
       "  Breaks: {'major_source': array([  0. ,   2.5,   5. ,   7.5,  10. ]), 'minor_source': array([], dtype=float64), 'range': (0.0, 10.0), 'major': array([ 0.  ,  0.25,  0.5 ,  0.75,  1.  ]), 'labels': array(['0.0', '2.5', '5.0', '7.5', '10.0'], \n",
       "      dtype='<U4'), 'minor': array([], dtype=float64)}"
      ]
     },
     "execution_count": 17,
     "metadata": {},
     "output_type": "execute_result"
    }
   ],
   "source": [
    "sc.aesthetics = aes(x='a')\n",
    "sc.train_df(a)\n",
    "sc"
   ]
  },
  {
   "cell_type": "code",
   "execution_count": 18,
   "metadata": {
    "collapsed": false
   },
   "outputs": [
    {
     "data": {
      "text/plain": [
       "<<class 'ggpy.scale.ScaleContinuous'>>\n",
       "  Range: 0.000 -- 1.000\n",
       "  Limits: 0.000 -- 1.000\n",
       "  Breaks: {'major_source': array([ 0.  ,  0.25,  0.5 ,  0.75,  1.  ]), 'minor_source': array([], dtype=float64), 'range': (0.0, 1.0), 'major': array([ 0.  ,  0.25,  0.5 ,  0.75,  1.  ]), 'labels': array(['0.0', '0.25', '0.5', '0.75', '1.0'], \n",
       "      dtype='<U4'), 'minor': array([], dtype=float64)}"
      ]
     },
     "execution_count": 18,
     "metadata": {},
     "output_type": "execute_result"
    }
   ],
   "source": [
    "sc.reset()\n",
    "sc.aesthetics = aes(x='b')\n",
    "sc.train_df(a)\n",
    "sc"
   ]
  },
  {
   "cell_type": "code",
   "execution_count": 19,
   "metadata": {
    "collapsed": false
   },
   "outputs": [
    {
     "data": {
      "text/plain": [
       "<<class 'ggpy.scale.ScaleContinuous'>>\n",
       "  Range: 0.000 -- 10.000\n",
       "  Limits: 0.000 -- 10.000\n",
       "  Breaks: {'major_source': array([  0. ,   2.5,   5. ,   7.5,  10. ]), 'minor_source': array([], dtype=float64), 'range': (0.0, 10.0), 'major': array([ 0.  ,  0.25,  0.5 ,  0.75,  1.  ]), 'labels': array(['0.0', '2.5', '5.0', '7.5', '10.0'], \n",
       "      dtype='<U4'), 'minor': array([], dtype=float64)}"
      ]
     },
     "execution_count": 19,
     "metadata": {},
     "output_type": "execute_result"
    }
   ],
   "source": [
    "sc.aesthetics = aes(x='a')\n",
    "sc.train_df(a)\n",
    "sc"
   ]
  },
  {
   "cell_type": "code",
   "execution_count": 20,
   "metadata": {
    "collapsed": false
   },
   "outputs": [
    {
     "data": {
      "text/plain": [
       "<<class 'ggpy.scale.ScaleDiscrete'>>\n",
       "  Range: ()\n",
       "  Limits: ()\n",
       "  Breaks: {'major_source': array([], dtype=float64), 'range': None, 'major': array([], dtype=float64), 'labels': array([], dtype=float64)}"
      ]
     },
     "execution_count": 20,
     "metadata": {},
     "output_type": "execute_result"
    }
   ],
   "source": [
    "scD = ScaleDiscrete()\n",
    "scD"
   ]
  },
  {
   "cell_type": "code",
   "execution_count": 21,
   "metadata": {
    "collapsed": false
   },
   "outputs": [
    {
     "data": {
      "text/html": [
       "<div>\n",
       "<table border=\"1\" class=\"dataframe\">\n",
       "  <thead>\n",
       "    <tr style=\"text-align: right;\">\n",
       "      <th></th>\n",
       "      <th>a</th>\n",
       "      <th>b</th>\n",
       "      <th>c</th>\n",
       "    </tr>\n",
       "  </thead>\n",
       "  <tbody>\n",
       "    <tr>\n",
       "      <th>0</th>\n",
       "      <td>0</td>\n",
       "      <td>0.0</td>\n",
       "      <td>fish</td>\n",
       "    </tr>\n",
       "    <tr>\n",
       "      <th>1</th>\n",
       "      <td>1</td>\n",
       "      <td>0.1</td>\n",
       "      <td>in</td>\n",
       "    </tr>\n",
       "    <tr>\n",
       "      <th>2</th>\n",
       "      <td>2</td>\n",
       "      <td>0.2</td>\n",
       "      <td>sea</td>\n",
       "    </tr>\n",
       "    <tr>\n",
       "      <th>3</th>\n",
       "      <td>3</td>\n",
       "      <td>0.3</td>\n",
       "      <td>fish</td>\n",
       "    </tr>\n",
       "    <tr>\n",
       "      <th>4</th>\n",
       "      <td>4</td>\n",
       "      <td>0.4</td>\n",
       "      <td>in</td>\n",
       "    </tr>\n",
       "    <tr>\n",
       "      <th>5</th>\n",
       "      <td>5</td>\n",
       "      <td>0.5</td>\n",
       "      <td>sea</td>\n",
       "    </tr>\n",
       "    <tr>\n",
       "      <th>6</th>\n",
       "      <td>6</td>\n",
       "      <td>0.6</td>\n",
       "      <td>fish</td>\n",
       "    </tr>\n",
       "    <tr>\n",
       "      <th>7</th>\n",
       "      <td>7</td>\n",
       "      <td>0.7</td>\n",
       "      <td>in</td>\n",
       "    </tr>\n",
       "    <tr>\n",
       "      <th>8</th>\n",
       "      <td>8</td>\n",
       "      <td>0.8</td>\n",
       "      <td>sea</td>\n",
       "    </tr>\n",
       "    <tr>\n",
       "      <th>9</th>\n",
       "      <td>9</td>\n",
       "      <td>0.9</td>\n",
       "      <td>NaN</td>\n",
       "    </tr>\n",
       "    <tr>\n",
       "      <th>10</th>\n",
       "      <td>10</td>\n",
       "      <td>1.0</td>\n",
       "      <td>in</td>\n",
       "    </tr>\n",
       "  </tbody>\n",
       "</table>\n",
       "</div>"
      ],
      "text/plain": [
       "     a    b     c\n",
       "0    0  0.0  fish\n",
       "1    1  0.1    in\n",
       "2    2  0.2   sea\n",
       "3    3  0.3  fish\n",
       "4    4  0.4    in\n",
       "5    5  0.5   sea\n",
       "6    6  0.6  fish\n",
       "7    7  0.7    in\n",
       "8    8  0.8   sea\n",
       "9    9  0.9   NaN\n",
       "10  10  1.0    in"
      ]
     },
     "execution_count": 21,
     "metadata": {},
     "output_type": "execute_result"
    }
   ],
   "source": [
    "a['c'] = pd.Series(['fish', 'in', 'sea', 'fish', 'in', 'sea', 'fish', 'in', 'sea', NA, 'in'], dtype='category')\n",
    "a"
   ]
  },
  {
   "cell_type": "code",
   "execution_count": 22,
   "metadata": {
    "collapsed": false
   },
   "outputs": [
    {
     "data": {
      "text/plain": [
       "Index(['fish', 'in', 'sea'], dtype='object')"
      ]
     },
     "execution_count": 22,
     "metadata": {},
     "output_type": "execute_result"
    }
   ],
   "source": [
    "a.c.cat.categories"
   ]
  },
  {
   "cell_type": "code",
   "execution_count": 23,
   "metadata": {
    "collapsed": false
   },
   "outputs": [
    {
     "data": {
      "text/plain": [
       "<<class 'ggpy.scale.ScaleDiscrete'>>\n",
       "  Range: ['fish' 'in' 'sea' '__NA_character_']\n",
       "  Limits: ['fish' 'in' 'sea' '__NA_character_']\n",
       "  Breaks: {'major_source': array(['0', '1', '2', '__NA_character_'], \n",
       "      dtype='<U21'), 'range': None, 'major': array([ nan,  nan,  nan,  nan]), 'labels': array(['fish', 'in', 'sea', '__NA_character_'], \n",
       "      dtype='<U15')}"
      ]
     },
     "execution_count": 23,
     "metadata": {},
     "output_type": "execute_result"
    }
   ],
   "source": [
    "scD.aesthetics = aes(thing='c')\n",
    "scD.train_df(a)\n",
    "scD"
   ]
  }
 ],
 "metadata": {
  "kernelspec": {
   "display_name": "Python 3",
   "language": "python",
   "name": "python3"
  },
  "language_info": {
   "codemirror_mode": {
    "name": "ipython",
    "version": 3
   },
   "file_extension": ".py",
   "mimetype": "text/x-python",
   "name": "python",
   "nbconvert_exporter": "python",
   "pygments_lexer": "ipython3",
   "version": "3.4.2"
  }
 },
 "nbformat": 4,
 "nbformat_minor": 0
}
