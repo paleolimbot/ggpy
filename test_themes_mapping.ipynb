{
 "cells": [
  {
   "cell_type": "code",
   "execution_count": 1,
   "metadata": {
    "collapsed": true
   },
   "outputs": [],
   "source": [
    "# import namespaces\n",
    "from ggpy._component import Component\n",
    "from ggpy.aes import aes\n",
    "from ggpy.theme import theme\n",
    "from ggpy.theme_elements import Element, element_blank, element_line, element_rect, element_text, Rel\n",
    "import pandas as pd"
   ]
  },
  {
   "cell_type": "code",
   "execution_count": 2,
   "metadata": {
    "collapsed": false
   },
   "outputs": [
    {
     "data": {
      "text/plain": [
       "Component(key1='value1', key3='value3', key2='value2')"
      ]
     },
     "execution_count": 2,
     "metadata": {},
     "output_type": "execute_result"
    }
   ],
   "source": [
    "# test Component inheritance\n",
    "a = Component(key1=\"value1\", key2=\"value2\", key3=\"value3\")\n",
    "a"
   ]
  },
  {
   "cell_type": "code",
   "execution_count": 3,
   "metadata": {
    "collapsed": false
   },
   "outputs": [
    {
     "data": {
      "text/plain": [
       "Component(key1='value1', key3='new_value3', key2='value2')"
      ]
     },
     "execution_count": 3,
     "metadata": {},
     "output_type": "execute_result"
    }
   ],
   "source": [
    "a + Component(key3=\"new_value3\")"
   ]
  },
  {
   "cell_type": "code",
   "execution_count": 4,
   "metadata": {
    "collapsed": false
   },
   "outputs": [
    {
     "data": {
      "text/plain": [
       "Component(key1='value1', key3='value3', key2='value2')"
      ]
     },
     "execution_count": 4,
     "metadata": {},
     "output_type": "execute_result"
    }
   ],
   "source": [
    "Component(key3=\"new_value3\") + a"
   ]
  },
  {
   "cell_type": "code",
   "execution_count": 5,
   "metadata": {
    "collapsed": false
   },
   "outputs": [
    {
     "data": {
      "text/plain": [
       "Component(key4='new_value4', key1='value1', key3='new_value3', key2='value2')"
      ]
     },
     "execution_count": 5,
     "metadata": {},
     "output_type": "execute_result"
    }
   ],
   "source": [
    "a + {'key3': \"new_value3\", 'key4': \"new_value4\"}"
   ]
  },
  {
   "cell_type": "code",
   "execution_count": 6,
   "metadata": {
    "collapsed": false
   },
   "outputs": [
    {
     "data": {
      "text/plain": [
       "Component(key4='new_value4', key1='value1', key3='value3', key2='value2')"
      ]
     },
     "execution_count": 6,
     "metadata": {},
     "output_type": "execute_result"
    }
   ],
   "source": [
    "{'key3': \"new_value3\", 'key4': \"new_value4\"} + a # test radd method"
   ]
  },
  {
   "cell_type": "code",
   "execution_count": 7,
   "metadata": {
    "collapsed": false
   },
   "outputs": [
    {
     "data": {
      "text/plain": [
       "Component(key3='value3', key2='value2')"
      ]
     },
     "execution_count": 7,
     "metadata": {},
     "output_type": "execute_result"
    }
   ],
   "source": [
    "# test None treatment\n",
    "a['key1'] = None\n",
    "a"
   ]
  },
  {
   "cell_type": "code",
   "execution_count": 8,
   "metadata": {
    "collapsed": false
   },
   "outputs": [
    {
     "data": {
      "text/plain": [
       "Component(key1='value1', key3='value3', key2='value2')"
      ]
     },
     "execution_count": 8,
     "metadata": {},
     "output_type": "execute_result"
    }
   ],
   "source": [
    "Component(key1=\"value1\", key2=\"value2\", key3=\"value3\", key4=None)"
   ]
  },
  {
   "cell_type": "code",
   "execution_count": 9,
   "metadata": {
    "collapsed": false
   },
   "outputs": [
    {
     "data": {
      "text/plain": [
       "Component(key1='fish', key3='value3', key2='value2')"
      ]
     },
     "execution_count": 9,
     "metadata": {},
     "output_type": "execute_result"
    }
   ],
   "source": [
    "a + Component(key1=\"fish\", key2=None) # make sure key2 is not overwritten"
   ]
  },
  {
   "cell_type": "code",
   "execution_count": 10,
   "metadata": {
    "collapsed": false
   },
   "outputs": [
    {
     "data": {
      "text/plain": [
       "Component(key1='fish', key3='value3', key2='value2')"
      ]
     },
     "execution_count": 10,
     "metadata": {},
     "output_type": "execute_result"
    }
   ],
   "source": [
    "a + {'key1':'fish', 'key2': None} # make sure key 2 is not overwritten"
   ]
  },
  {
   "cell_type": "code",
   "execution_count": 11,
   "metadata": {
    "collapsed": false
   },
   "outputs": [
    {
     "data": {
      "text/plain": [
       "Component(key1='fish', key3='value3', key2='value2')"
      ]
     },
     "execution_count": 11,
     "metadata": {},
     "output_type": "execute_result"
    }
   ],
   "source": [
    "{'key1':'fish', 'key2': None} + a # make sure key 2 is not overwritten in radd"
   ]
  },
  {
   "cell_type": "code",
   "execution_count": 12,
   "metadata": {
    "collapsed": false
   },
   "outputs": [
    {
     "data": {
      "text/plain": [
       "Mapping(key1='value1', key3='value3', key2='value2')"
      ]
     },
     "execution_count": 12,
     "metadata": {},
     "output_type": "execute_result"
    }
   ],
   "source": [
    "# test aesthetic inheritance\n",
    "a = aes(key1=\"value1\", key2=\"value2\", key3=\"value3\")\n",
    "a"
   ]
  },
  {
   "cell_type": "code",
   "execution_count": 13,
   "metadata": {
    "collapsed": false
   },
   "outputs": [
    {
     "data": {
      "text/plain": [
       "Mapping(colour='blue', fill='transparent', linetype='3')"
      ]
     },
     "execution_count": 13,
     "metadata": {},
     "output_type": "execute_result"
    }
   ],
   "source": [
    "# test renaming\n",
    "b = aes(col=\"blue\", lty=3, bg=\"transparent\")\n",
    "b"
   ]
  },
  {
   "cell_type": "code",
   "execution_count": 14,
   "metadata": {
    "collapsed": false
   },
   "outputs": [
    {
     "data": {
      "text/plain": [
       "Mapping(key1='value1', linetype='3', key3='value3', key2='value2', colour='blue', fill='transparent')"
      ]
     },
     "execution_count": 14,
     "metadata": {},
     "output_type": "execute_result"
    }
   ],
   "source": [
    "# test inheritance\n",
    "a + b"
   ]
  },
  {
   "cell_type": "code",
   "execution_count": 15,
   "metadata": {
    "collapsed": false
   },
   "outputs": [
    {
     "data": {
      "text/plain": [
       "Mapping(colour='blue', fill='transparent', linetype='4')"
      ]
     },
     "execution_count": 15,
     "metadata": {},
     "output_type": "execute_result"
    }
   ],
   "source": [
    "b + aes(lty=4)"
   ]
  },
  {
   "cell_type": "code",
   "execution_count": 16,
   "metadata": {
    "collapsed": false
   },
   "outputs": [
    {
     "data": {
      "text/html": [
       "<div>\n",
       "<table border=\"1\" class=\"dataframe\">\n",
       "  <thead>\n",
       "    <tr style=\"text-align: right;\">\n",
       "      <th></th>\n",
       "      <th>x</th>\n",
       "      <th>y</th>\n",
       "    </tr>\n",
       "  </thead>\n",
       "  <tbody>\n",
       "    <tr>\n",
       "      <th>0</th>\n",
       "      <td>fred</td>\n",
       "      <td>0</td>\n",
       "    </tr>\n",
       "    <tr>\n",
       "      <th>1</th>\n",
       "      <td>lucy</td>\n",
       "      <td>22</td>\n",
       "    </tr>\n",
       "    <tr>\n",
       "      <th>2</th>\n",
       "      <td>sally</td>\n",
       "      <td>9</td>\n",
       "    </tr>\n",
       "  </tbody>\n",
       "</table>\n",
       "</div>"
      ],
      "text/plain": [
       "       x   y\n",
       "0   fred   0\n",
       "1   lucy  22\n",
       "2  sally   9"
      ]
     },
     "execution_count": 16,
     "metadata": {},
     "output_type": "execute_result"
    }
   ],
   "source": [
    "# test mapping of data frame\n",
    "df = pd.DataFrame({'chicken':['fred', 'lucy', 'sally'], 'eggs':[0, 22, 9]})\n",
    "aes(x='chicken', y='eggs').map(df)"
   ]
  },
  {
   "cell_type": "code",
   "execution_count": 17,
   "metadata": {
    "collapsed": false
   },
   "outputs": [
    {
     "data": {
      "text/plain": [
       "RectElement(fill='black', linetype='4')"
      ]
     },
     "execution_count": 17,
     "metadata": {},
     "output_type": "execute_result"
    }
   ],
   "source": [
    "# test theme component functions\n",
    "a = element_rect(linetype=4, fill=\"black\")\n",
    "a"
   ]
  },
  {
   "cell_type": "code",
   "execution_count": 18,
   "metadata": {
    "collapsed": false
   },
   "outputs": [
    {
     "data": {
      "text/plain": [
       "LineElement(lineend='cap', linetype='1')"
      ]
     },
     "execution_count": 18,
     "metadata": {},
     "output_type": "execute_result"
    }
   ],
   "source": [
    "b = element_line(linetype=1, lineend=\"cap\")\n",
    "b"
   ]
  },
  {
   "cell_type": "code",
   "execution_count": 19,
   "metadata": {
    "collapsed": false
   },
   "outputs": [
    {
     "data": {
      "text/plain": [
       "TextElement(family='times', size='10')"
      ]
     },
     "execution_count": 19,
     "metadata": {},
     "output_type": "execute_result"
    }
   ],
   "source": [
    "c = element_text(family=\"times\", size=10)\n",
    "c"
   ]
  },
  {
   "cell_type": "code",
   "execution_count": 20,
   "metadata": {
    "collapsed": false
   },
   "outputs": [
    {
     "data": {
      "text/plain": [
       "RectElement(fill='black', linetype='4', size='4')"
      ]
     },
     "execution_count": 20,
     "metadata": {},
     "output_type": "execute_result"
    }
   ],
   "source": [
    "a + element_rect(size=4)"
   ]
  },
  {
   "cell_type": "code",
   "execution_count": 21,
   "metadata": {
    "collapsed": false
   },
   "outputs": [],
   "source": [
    "try:\n",
    "    a + b # should raise value error\n",
    "    raise AttributeError()\n",
    "except ValueError:\n",
    "    True"
   ]
  },
  {
   "cell_type": "code",
   "execution_count": 22,
   "metadata": {
    "collapsed": false
   },
   "outputs": [
    {
     "data": {
      "text/plain": [
       "RectElement(fill='black', linetype='4')"
      ]
     },
     "execution_count": 22,
     "metadata": {},
     "output_type": "execute_result"
    }
   ],
   "source": [
    "a + element_blank()"
   ]
  },
  {
   "cell_type": "code",
   "execution_count": 23,
   "metadata": {
    "collapsed": false
   },
   "outputs": [
    {
     "data": {
      "text/plain": [
       "RectElement(fill='black', linetype='4')"
      ]
     },
     "execution_count": 23,
     "metadata": {},
     "output_type": "execute_result"
    }
   ],
   "source": [
    "element_blank() + a"
   ]
  },
  {
   "cell_type": "code",
   "execution_count": 24,
   "metadata": {
    "collapsed": false
   },
   "outputs": [
    {
     "data": {
      "text/plain": [
       "True"
      ]
     },
     "execution_count": 24,
     "metadata": {},
     "output_type": "execute_result"
    }
   ],
   "source": [
    "element_line(colour=\"black\", size=5, linetype=3, lineend=\"cap\").is_complete()"
   ]
  },
  {
   "cell_type": "code",
   "execution_count": 25,
   "metadata": {
    "collapsed": false
   },
   "outputs": [
    {
     "data": {
      "text/plain": [
       "False"
      ]
     },
     "execution_count": 25,
     "metadata": {},
     "output_type": "execute_result"
    }
   ],
   "source": [
    "b.is_complete()"
   ]
  },
  {
   "cell_type": "code",
   "execution_count": 26,
   "metadata": {
    "collapsed": false
   },
   "outputs": [
    {
     "data": {
      "text/plain": [
       "RectElement(fill='black', linetype='4', size='13.2')"
      ]
     },
     "execution_count": 26,
     "metadata": {},
     "output_type": "execute_result"
    }
   ],
   "source": [
    "# test element Rel inheritance\n",
    "a + {'size':11} + {'size':Rel(1.2)}"
   ]
  },
  {
   "cell_type": "code",
   "execution_count": 27,
   "metadata": {
    "collapsed": false
   },
   "outputs": [
    {
     "data": {
      "text/plain": [
       "RectElement(size='10.5')"
      ]
     },
     "execution_count": 27,
     "metadata": {},
     "output_type": "execute_result"
    }
   ],
   "source": [
    "# and in reverse\n",
    "b = element_rect(size=21)\n",
    "{'size':Rel(0.5)} + b"
   ]
  },
  {
   "cell_type": "code",
   "execution_count": 28,
   "metadata": {
    "collapsed": false
   },
   "outputs": [
    {
     "data": {
      "text/plain": [
       "RectElement(size='7.14')"
      ]
     },
     "execution_count": 28,
     "metadata": {},
     "output_type": "execute_result"
    }
   ],
   "source": [
    "# and with Elements\n",
    "element_rect(size=3.4) + element_rect(size=Rel(2.1))"
   ]
  },
  {
   "cell_type": "code",
   "execution_count": 29,
   "metadata": {
    "collapsed": false
   },
   "outputs": [
    {
     "data": {
      "text/plain": [
       "RectElement(size='Rel(7.14)')"
      ]
     },
     "execution_count": 29,
     "metadata": {},
     "output_type": "execute_result"
    }
   ],
   "source": [
    "# test with two Rel objects to see if Rel is maintained\n",
    "element_rect(size=Rel(3.4)) + element_rect(size=Rel(2.1))"
   ]
  },
  {
   "cell_type": "code",
   "execution_count": 30,
   "metadata": {
    "collapsed": false
   },
   "outputs": [
    {
     "data": {
      "text/plain": [
       "Theme(complete=False, validate=True, a='fish')"
      ]
     },
     "execution_count": 30,
     "metadata": {},
     "output_type": "execute_result"
    }
   ],
   "source": [
    "# test Theme inheritance\n",
    "a = theme(a=\"fish\")\n",
    "a"
   ]
  },
  {
   "cell_type": "code",
   "execution_count": 31,
   "metadata": {
    "collapsed": false
   },
   "outputs": [
    {
     "data": {
      "text/plain": [
       "Theme(complete=False, validate=True, a='fishyy', b='thing')"
      ]
     },
     "execution_count": 31,
     "metadata": {},
     "output_type": "execute_result"
    }
   ],
   "source": [
    "a + theme(a=\"fishyy\", b=\"thing\")"
   ]
  },
  {
   "cell_type": "code",
   "execution_count": 32,
   "metadata": {
    "collapsed": false
   },
   "outputs": [
    {
     "data": {
      "text/plain": [
       "Theme(complete=False, validate=True, a='fish', b='thing')"
      ]
     },
     "execution_count": 32,
     "metadata": {},
     "output_type": "execute_result"
    }
   ],
   "source": [
    "theme(a=\"fishyy\", b=\"thing\") + a"
   ]
  },
  {
   "cell_type": "code",
   "execution_count": 33,
   "metadata": {
    "collapsed": true
   },
   "outputs": [],
   "source": [
    "from ggpy.theme_default import theme_grey"
   ]
  },
  {
   "cell_type": "code",
   "execution_count": 34,
   "metadata": {
    "collapsed": false
   },
   "outputs": [
    {
     "data": {
      "text/plain": [
       "Theme(complete=True, validate=True, plot_margin='Margin(t=5.5, r=5.5, b=5.5, l=5.5, unit='pt')', strip_switch_pad_grid='Unit(0.1, 'cm')', panel_margin_x='nan', axis_ticks_length='Unit(2.75, 'pt')', legend_key_height='nan', strip_text_y='TextElement(margin='Margin(t=0.0, r=5.5, b=0.0, l=5.5, unit='pt')', angle='-90')', panel_grid_major='LineElement(colour='white')', legend_direction='nan', legend_box='nan', legend_position='right', panel_margin_y='nan', strip_switch_pad_wrap='Unit(0.1, 'cm')', panel_ontop='False', axis_ticks='LineElement(colour='grey20')', rect='RectElement(colour='black', fill='white', linetype='1', size='0.5')', strip_text='TextElement(colour='grey10', size='Rel(0.8)')', plot_title='TextElement(hjust='0', margin='Margin(t=0.0, r=0.0, b=6.6, l=0.0, unit='pt')', size='Rel(1.2)')', line='LineElement(colour='black', lineend='butt', linetype='1', size='0.5')', legend_key='RectElement(colour='white', fill='grey95')', axis_line='LineElement()', legend_margin='Unit(0.2, 'cm')', axis_title_y='TextElement(margin='Margin(t=0.0, r=4.4, b=0.0, l=2.2, unit='pt')', angle='90')', axis_text_x='TextElement(vjust='1', margin='Margin(t=2.2, r=0.0, b=0.0, l=0.0, unit='pt')')', legend_justification='center', legend_text_align='nan', legend_key_size='Unit(1.2, 'lines')', axis_text='TextElement(colour='grey30', size='Rel(0.8)')', strip_background='RectElement(colour='nan', fill='grey85')', panel_border='BlankElement()', legend_title_align='nan', axis_line_y='BlankElement()', legend_text='TextElement(size='Rel(0.8)')', axis_line_x='BlankElement()', strip_text_x='TextElement(margin='Margin(t=5.5, r=0.0, b=5.5, l=0.0, unit='pt')')', axis_text_y='TextElement(hjust='1', margin='Margin(t=0.0, r=2.2, b=0.0, l=0.0, unit='pt')')', panel_margin='Unit(5.5, 'pt')', legend_title='TextElement(hjust='0')', legend_background='RectElement(colour='nan')', panel_grid_minor='LineElement(colour='white', size='0.25')', text='TextElement(vjust='0.5', hjust='0.5', family='', angle='0', face='plain', colour='black', lineheight='0.9', margin='Margin(t=0, r=0, b=0, l=0, unit='pt')', size='11')', panel_background='RectElement(colour='nan', fill='grey92')', plot_background='RectElement(colour='white')', legend_key_width='nan', axis_title_x='TextElement(margin='Margin(t=4.4, r=0.0, b=2.2, l=0.0, unit='pt')')', plot_subtitle='TextElement(hjust='0', margin='Margin(t=0.0, r=0.0, b=4.95, l=0.0, unit='pt')', size='Rel(0.9)')', plot_caption='TextElement(hjust='1', margin='Margin(t=4.95, r=0.0, b=0.0, l=0.0, unit='pt')', size='Rel(0.9)')')"
      ]
     },
     "execution_count": 34,
     "metadata": {},
     "output_type": "execute_result"
    }
   ],
   "source": [
    "tg = theme_grey()\n",
    "tg"
   ]
  },
  {
   "cell_type": "code",
   "execution_count": 35,
   "metadata": {
    "collapsed": false
   },
   "outputs": [
    {
     "data": {
      "text/plain": [
       "TextElement(vjust='0.5', hjust='0.5', family='', angle='0', face='plain', colour='grey30', lineheight='0.9', margin='Margin(t=0, r=0, b=0, l=0, unit='pt')', size='8.8')"
      ]
     },
     "execution_count": 35,
     "metadata": {},
     "output_type": "execute_result"
    }
   ],
   "source": [
    "tg.element('axis_text')"
   ]
  },
  {
   "cell_type": "code",
   "execution_count": 36,
   "metadata": {
    "collapsed": false
   },
   "outputs": [
    {
     "data": {
      "text/plain": [
       "TextElement(colour='grey30', size='Rel(0.8)')"
      ]
     },
     "execution_count": 36,
     "metadata": {},
     "output_type": "execute_result"
    }
   ],
   "source": [
    "tg['axis_text']"
   ]
  },
  {
   "cell_type": "code",
   "execution_count": 37,
   "metadata": {
    "collapsed": false
   },
   "outputs": [
    {
     "data": {
      "text/plain": [
       "TextElement(colour='grey30', size='Rel(1.6)')"
      ]
     },
     "execution_count": 37,
     "metadata": {},
     "output_type": "execute_result"
    }
   ],
   "source": [
    "nt = tg + theme(axis_text=element_text(size=Rel(2)))\n",
    "nt['axis_text']"
   ]
  },
  {
   "cell_type": "code",
   "execution_count": 38,
   "metadata": {
    "collapsed": false
   },
   "outputs": [
    {
     "data": {
      "text/plain": [
       "TextElement(vjust='0.5', hjust='0.5', family='', angle='0', face='plain', colour='grey30', lineheight='0.9', margin='Margin(t=0, r=0, b=0, l=0, unit='pt')', size='17.6')"
      ]
     },
     "execution_count": 38,
     "metadata": {},
     "output_type": "execute_result"
    }
   ],
   "source": [
    "nt.element('axis_text')"
   ]
  },
  {
   "cell_type": "code",
   "execution_count": 39,
   "metadata": {
    "collapsed": false
   },
   "outputs": [
    {
     "data": {
      "text/plain": [
       "Theme(complete=False, validate=True, axis_text='TextElement(size='Rel(11.0)')')"
      ]
     },
     "execution_count": 39,
     "metadata": {},
     "output_type": "execute_result"
    }
   ],
   "source": [
    "theme(axis_text=element_text(size=Rel(2))) + theme(axis_text=element_text(size=Rel(5.5)))"
   ]
  },
  {
   "cell_type": "code",
   "execution_count": 40,
   "metadata": {
    "collapsed": true
   },
   "outputs": [],
   "source": [
    "from ggpy.margins import Margin\n",
    "from ggpy.unit import Unit"
   ]
  },
  {
   "cell_type": "code",
   "execution_count": 41,
   "metadata": {
    "collapsed": false
   },
   "outputs": [
    {
     "data": {
      "text/plain": [
       "Margin(t=1, r=1, b=2, l=2, unit='cm')"
      ]
     },
     "execution_count": 41,
     "metadata": {},
     "output_type": "execute_result"
    }
   ],
   "source": [
    "b = Margin(1, 1, 2, 2, unit=\"cm\")\n",
    "b"
   ]
  },
  {
   "cell_type": "code",
   "execution_count": 42,
   "metadata": {
    "collapsed": false
   },
   "outputs": [
    {
     "data": {
      "text/plain": [
       "Unit([1 2 3 4], 'pt')"
      ]
     },
     "execution_count": 42,
     "metadata": {},
     "output_type": "execute_result"
    }
   ],
   "source": [
    "a = Unit([1,2,3,4], unit=\"pt\")\n",
    "a"
   ]
  },
  {
   "cell_type": "code",
   "execution_count": 43,
   "metadata": {
    "collapsed": false
   },
   "outputs": [
    {
     "data": {
      "text/plain": [
       "Unit([ 4  8 12 16], 'pt')"
      ]
     },
     "execution_count": 43,
     "metadata": {},
     "output_type": "execute_result"
    }
   ],
   "source": [
    "a * 4"
   ]
  },
  {
   "cell_type": "code",
   "execution_count": 44,
   "metadata": {
    "collapsed": false
   },
   "outputs": [
    {
     "data": {
      "text/plain": [
       "Margin(t=4, r=4, b=8, l=8, unit='cm')"
      ]
     },
     "execution_count": 44,
     "metadata": {},
     "output_type": "execute_result"
    }
   ],
   "source": [
    "4 * b"
   ]
  },
  {
   "cell_type": "code",
   "execution_count": 45,
   "metadata": {
    "collapsed": false
   },
   "outputs": [
    {
     "data": {
      "text/plain": [
       "Unit([ 0.4  0.8  1.2  1.6], 'pt')"
      ]
     },
     "execution_count": 45,
     "metadata": {},
     "output_type": "execute_result"
    }
   ],
   "source": [
    "a * Rel(0.4)"
   ]
  },
  {
   "cell_type": "code",
   "execution_count": 46,
   "metadata": {
    "collapsed": false
   },
   "outputs": [
    {
     "data": {
      "text/plain": [
       "Margin(t=0.4, r=0.4, b=0.8, l=0.8, unit='cm')"
      ]
     },
     "execution_count": 46,
     "metadata": {},
     "output_type": "execute_result"
    }
   ],
   "source": [
    "Rel(0.4) * b"
   ]
  },
  {
   "cell_type": "code",
   "execution_count": 47,
   "metadata": {
    "collapsed": false
   },
   "outputs": [
    {
     "data": {
      "text/plain": [
       "Margin(t=2.2, r=2.2, b=4.4, l=4.4, unit='cm')"
      ]
     },
     "execution_count": 47,
     "metadata": {},
     "output_type": "execute_result"
    }
   ],
   "source": [
    "b * Rel(2.2)"
   ]
  }
 ],
 "metadata": {
  "kernelspec": {
   "display_name": "Python 3",
   "language": "python",
   "name": "python3"
  },
  "language_info": {
   "codemirror_mode": {
    "name": "ipython",
    "version": 3
   },
   "file_extension": ".py",
   "mimetype": "text/x-python",
   "name": "python",
   "nbconvert_exporter": "python",
   "pygments_lexer": "ipython3",
   "version": "3.4.2"
  }
 },
 "nbformat": 4,
 "nbformat_minor": 0
}
