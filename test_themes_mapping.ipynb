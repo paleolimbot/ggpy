{
 "cells": [
  {
   "cell_type": "code",
   "execution_count": 1,
   "metadata": {
    "collapsed": true
   },
   "outputs": [],
   "source": [
    "# import namespaces\n",
    "from ggpy._component import Component\n",
    "from ggpy.aes import aes\n",
    "from ggpy.theme import theme\n",
    "from ggpy.theme_elements import Element, element_blank, element_line, element_rect, element_text, Rel"
   ]
  },
  {
   "cell_type": "code",
   "execution_count": 2,
   "metadata": {
    "collapsed": false
   },
   "outputs": [
    {
     "data": {
      "text/plain": [
       "Component(key2='value2', key1='value1', key3='value3')"
      ]
     },
     "execution_count": 2,
     "metadata": {},
     "output_type": "execute_result"
    }
   ],
   "source": [
    "# test Component inheritance\n",
    "a = Component(key1=\"value1\", key2=\"value2\", key3=\"value3\")\n",
    "a"
   ]
  },
  {
   "cell_type": "code",
   "execution_count": 3,
   "metadata": {
    "collapsed": false
   },
   "outputs": [
    {
     "data": {
      "text/plain": [
       "Component(key2='value2', key1='value1', key3='new_value3')"
      ]
     },
     "execution_count": 3,
     "metadata": {},
     "output_type": "execute_result"
    }
   ],
   "source": [
    "a + Component(key3=\"new_value3\")"
   ]
  },
  {
   "cell_type": "code",
   "execution_count": 4,
   "metadata": {
    "collapsed": false
   },
   "outputs": [
    {
     "data": {
      "text/plain": [
       "Component(key2='value2', key1='value1', key3='value3')"
      ]
     },
     "execution_count": 4,
     "metadata": {},
     "output_type": "execute_result"
    }
   ],
   "source": [
    "Component(key3=\"new_value3\") + a"
   ]
  },
  {
   "cell_type": "code",
   "execution_count": 5,
   "metadata": {
    "collapsed": false
   },
   "outputs": [
    {
     "data": {
      "text/plain": [
       "Component(key2='value2', key1='value1', key3='new_value3', key4='new_value4')"
      ]
     },
     "execution_count": 5,
     "metadata": {},
     "output_type": "execute_result"
    }
   ],
   "source": [
    "a + {'key3': \"new_value3\", 'key4': \"new_value4\"}"
   ]
  },
  {
   "cell_type": "code",
   "execution_count": 6,
   "metadata": {
    "collapsed": false
   },
   "outputs": [
    {
     "data": {
      "text/plain": [
       "Component(key2='value2', key1='value1', key3='value3', key4='new_value4')"
      ]
     },
     "execution_count": 6,
     "metadata": {},
     "output_type": "execute_result"
    }
   ],
   "source": [
    "{'key3': \"new_value3\", 'key4': \"new_value4\"} + a # test radd method"
   ]
  },
  {
   "cell_type": "code",
   "execution_count": 7,
   "metadata": {
    "collapsed": false
   },
   "outputs": [
    {
     "data": {
      "text/plain": [
       "Component(key2='value2', key3='value3')"
      ]
     },
     "execution_count": 7,
     "metadata": {},
     "output_type": "execute_result"
    }
   ],
   "source": [
    "# test None treatment\n",
    "a['key1'] = None\n",
    "a"
   ]
  },
  {
   "cell_type": "code",
   "execution_count": 8,
   "metadata": {
    "collapsed": false
   },
   "outputs": [
    {
     "data": {
      "text/plain": [
       "Component(key2='value2', key1='value1', key3='value3')"
      ]
     },
     "execution_count": 8,
     "metadata": {},
     "output_type": "execute_result"
    }
   ],
   "source": [
    "Component(key1=\"value1\", key2=\"value2\", key3=\"value3\", key4=None)"
   ]
  },
  {
   "cell_type": "code",
   "execution_count": 9,
   "metadata": {
    "collapsed": false
   },
   "outputs": [
    {
     "data": {
      "text/plain": [
       "Component(key2='value2', key1='fish', key3='value3')"
      ]
     },
     "execution_count": 9,
     "metadata": {},
     "output_type": "execute_result"
    }
   ],
   "source": [
    "a + Component(key1=\"fish\", key2=None) # make sure key2 is not overwritten"
   ]
  },
  {
   "cell_type": "code",
   "execution_count": 10,
   "metadata": {
    "collapsed": false
   },
   "outputs": [
    {
     "data": {
      "text/plain": [
       "Component(key2='value2', key1='fish', key3='value3')"
      ]
     },
     "execution_count": 10,
     "metadata": {},
     "output_type": "execute_result"
    }
   ],
   "source": [
    "a + {'key1':'fish', 'key2': None} # make sure key 2 is not overwritten"
   ]
  },
  {
   "cell_type": "code",
   "execution_count": 11,
   "metadata": {
    "collapsed": false
   },
   "outputs": [
    {
     "data": {
      "text/plain": [
       "Component(key2='value2', key1='fish', key3='value3')"
      ]
     },
     "execution_count": 11,
     "metadata": {},
     "output_type": "execute_result"
    }
   ],
   "source": [
    "{'key1':'fish', 'key2': None} + a # make sure key 2 is not overwritten in radd"
   ]
  },
  {
   "cell_type": "code",
   "execution_count": 12,
   "metadata": {
    "collapsed": false
   },
   "outputs": [
    {
     "data": {
      "text/plain": [
       "Mapping(key2='value2', key1='value1', key3='value3')"
      ]
     },
     "execution_count": 12,
     "metadata": {},
     "output_type": "execute_result"
    }
   ],
   "source": [
    "# test aesthetic inheritance\n",
    "a = aes(key1=\"value1\", key2=\"value2\", key3=\"value3\")\n",
    "a"
   ]
  },
  {
   "cell_type": "code",
   "execution_count": 13,
   "metadata": {
    "collapsed": false
   },
   "outputs": [
    {
     "data": {
      "text/plain": [
       "Mapping(linetype='3', colour='blue', fill='transparent')"
      ]
     },
     "execution_count": 13,
     "metadata": {},
     "output_type": "execute_result"
    }
   ],
   "source": [
    "# test renaming\n",
    "b = aes(col=\"blue\", lty=3, bg=\"transparent\")\n",
    "b"
   ]
  },
  {
   "cell_type": "code",
   "execution_count": 14,
   "metadata": {
    "collapsed": false
   },
   "outputs": [
    {
     "data": {
      "text/plain": [
       "Mapping(key1='value1', colour='blue', linetype='3', key2='value2', key3='value3', fill='transparent')"
      ]
     },
     "execution_count": 14,
     "metadata": {},
     "output_type": "execute_result"
    }
   ],
   "source": [
    "# test inheritance\n",
    "a + b"
   ]
  },
  {
   "cell_type": "code",
   "execution_count": 15,
   "metadata": {
    "collapsed": false
   },
   "outputs": [
    {
     "data": {
      "text/plain": [
       "Mapping(linetype='4', colour='blue', fill='transparent')"
      ]
     },
     "execution_count": 15,
     "metadata": {},
     "output_type": "execute_result"
    }
   ],
   "source": [
    "b + aes(lty=4)"
   ]
  },
  {
   "cell_type": "code",
   "execution_count": 16,
   "metadata": {
    "collapsed": false
   },
   "outputs": [
    {
     "data": {
      "text/plain": [
       "RectElement(linetype='4', fill='black')"
      ]
     },
     "execution_count": 16,
     "metadata": {},
     "output_type": "execute_result"
    }
   ],
   "source": [
    "# test theme component functions\n",
    "a = element_rect(linetype=4, fill=\"black\")\n",
    "a"
   ]
  },
  {
   "cell_type": "code",
   "execution_count": 17,
   "metadata": {
    "collapsed": false
   },
   "outputs": [
    {
     "data": {
      "text/plain": [
       "LineElement(linetype='1', lineend='cap')"
      ]
     },
     "execution_count": 17,
     "metadata": {},
     "output_type": "execute_result"
    }
   ],
   "source": [
    "b = element_line(linetype=1, lineend=\"cap\")\n",
    "b"
   ]
  },
  {
   "cell_type": "code",
   "execution_count": 18,
   "metadata": {
    "collapsed": false
   },
   "outputs": [
    {
     "data": {
      "text/plain": [
       "TextElement(size='10', family='times')"
      ]
     },
     "execution_count": 18,
     "metadata": {},
     "output_type": "execute_result"
    }
   ],
   "source": [
    "c = element_text(family=\"times\", size=10)\n",
    "c"
   ]
  },
  {
   "cell_type": "code",
   "execution_count": 19,
   "metadata": {
    "collapsed": false
   },
   "outputs": [
    {
     "data": {
      "text/plain": [
       "RectElement(linetype='4', size='4', fill='black')"
      ]
     },
     "execution_count": 19,
     "metadata": {},
     "output_type": "execute_result"
    }
   ],
   "source": [
    "a + element_rect(size=4)"
   ]
  },
  {
   "cell_type": "code",
   "execution_count": 20,
   "metadata": {
    "collapsed": false
   },
   "outputs": [],
   "source": [
    "try:\n",
    "    a + b # should raise value error\n",
    "    raise AttributeError()\n",
    "except ValueError:\n",
    "    True"
   ]
  },
  {
   "cell_type": "code",
   "execution_count": 21,
   "metadata": {
    "collapsed": false
   },
   "outputs": [
    {
     "data": {
      "text/plain": [
       "RectElement(linetype='4', fill='black')"
      ]
     },
     "execution_count": 21,
     "metadata": {},
     "output_type": "execute_result"
    }
   ],
   "source": [
    "a + element_blank()"
   ]
  },
  {
   "cell_type": "code",
   "execution_count": 22,
   "metadata": {
    "collapsed": false
   },
   "outputs": [
    {
     "data": {
      "text/plain": [
       "RectElement(linetype='4', fill='black')"
      ]
     },
     "execution_count": 22,
     "metadata": {},
     "output_type": "execute_result"
    }
   ],
   "source": [
    "element_blank() + a"
   ]
  },
  {
   "cell_type": "code",
   "execution_count": 23,
   "metadata": {
    "collapsed": false
   },
   "outputs": [
    {
     "data": {
      "text/plain": [
       "True"
      ]
     },
     "execution_count": 23,
     "metadata": {},
     "output_type": "execute_result"
    }
   ],
   "source": [
    "element_line(colour=\"black\", size=5, linetype=3, lineend=\"cap\").is_complete()"
   ]
  },
  {
   "cell_type": "code",
   "execution_count": 24,
   "metadata": {
    "collapsed": false
   },
   "outputs": [
    {
     "data": {
      "text/plain": [
       "False"
      ]
     },
     "execution_count": 24,
     "metadata": {},
     "output_type": "execute_result"
    }
   ],
   "source": [
    "b.is_complete()"
   ]
  },
  {
   "cell_type": "code",
   "execution_count": 25,
   "metadata": {
    "collapsed": false
   },
   "outputs": [
    {
     "data": {
      "text/plain": [
       "RectElement(linetype='4', size='13.2', fill='black')"
      ]
     },
     "execution_count": 25,
     "metadata": {},
     "output_type": "execute_result"
    }
   ],
   "source": [
    "# test element Rel inheritance\n",
    "a + {'size':11} + {'size':Rel(1.2)}"
   ]
  },
  {
   "cell_type": "code",
   "execution_count": 26,
   "metadata": {
    "collapsed": false
   },
   "outputs": [
    {
     "data": {
      "text/plain": [
       "RectElement(size='10.5')"
      ]
     },
     "execution_count": 26,
     "metadata": {},
     "output_type": "execute_result"
    }
   ],
   "source": [
    "# and in reverse\n",
    "b = element_rect(size=21)\n",
    "{'size':Rel(0.5)} + b"
   ]
  },
  {
   "cell_type": "code",
   "execution_count": 27,
   "metadata": {
    "collapsed": false
   },
   "outputs": [
    {
     "data": {
      "text/plain": [
       "RectElement(size='7.14')"
      ]
     },
     "execution_count": 27,
     "metadata": {},
     "output_type": "execute_result"
    }
   ],
   "source": [
    "# and with Elements\n",
    "element_rect(size=3.4) + element_rect(size=Rel(2.1))"
   ]
  },
  {
   "cell_type": "code",
   "execution_count": 28,
   "metadata": {
    "collapsed": false
   },
   "outputs": [
    {
     "data": {
      "text/plain": [
       "RectElement(size='Rel(7.14)')"
      ]
     },
     "execution_count": 28,
     "metadata": {},
     "output_type": "execute_result"
    }
   ],
   "source": [
    "# test with two Rel objects to see if Rel is maintained\n",
    "element_rect(size=Rel(3.4)) + element_rect(size=Rel(2.1))"
   ]
  },
  {
   "cell_type": "code",
   "execution_count": 29,
   "metadata": {
    "collapsed": false
   },
   "outputs": [
    {
     "data": {
      "text/plain": [
       "Theme(complete=False, validate=True, a='fish')"
      ]
     },
     "execution_count": 29,
     "metadata": {},
     "output_type": "execute_result"
    }
   ],
   "source": [
    "# test Theme inheritance\n",
    "a = theme(a=\"fish\")\n",
    "a"
   ]
  },
  {
   "cell_type": "code",
   "execution_count": 30,
   "metadata": {
    "collapsed": false
   },
   "outputs": [
    {
     "data": {
      "text/plain": [
       "Theme(complete=False, validate=True, b='thing', a='fishyy')"
      ]
     },
     "execution_count": 30,
     "metadata": {},
     "output_type": "execute_result"
    }
   ],
   "source": [
    "a + theme(a=\"fishyy\", b=\"thing\")"
   ]
  },
  {
   "cell_type": "code",
   "execution_count": 31,
   "metadata": {
    "collapsed": false
   },
   "outputs": [
    {
     "data": {
      "text/plain": [
       "Theme(complete=False, validate=True, b='thing', a='fish')"
      ]
     },
     "execution_count": 31,
     "metadata": {},
     "output_type": "execute_result"
    }
   ],
   "source": [
    "theme(a=\"fishyy\", b=\"thing\") + a"
   ]
  },
  {
   "cell_type": "code",
   "execution_count": 32,
   "metadata": {
    "collapsed": true
   },
   "outputs": [],
   "source": [
    "from ggpy.theme_default import theme_grey"
   ]
  },
  {
   "cell_type": "code",
   "execution_count": 33,
   "metadata": {
    "collapsed": false
   },
   "outputs": [
    {
     "data": {
      "text/plain": [
       "Theme(complete=True, validate=True, legend_title_align='nan', panel_margin_x='nan', strip_text_y='TextElement(angle='-90', margin='Margin(t=0.0, r=5.5, b=0.0, l=5.5, unit='pt')')', panel_ontop='False', panel_background='RectElement(colour='nan', fill='grey92')', axis_line='LineElement()', text='TextElement(size='11', hjust='0.5', face='plain', lineheight='0.9', vjust='0.5', angle='0', family='', margin='Margin(t=0, r=0, b=0, l=0, unit='pt')', colour='black')', panel_border='BlankElement()', panel_margin='Unit(5.5, 'pt')', panel_margin_y='nan', axis_title_y='TextElement(angle='90', margin='Margin(t=0.0, r=4.4, b=0.0, l=2.2, unit='pt')')', axis_text_y='TextElement(hjust='1', margin='Margin(t=0.0, r=2.2, b=0.0, l=0.0, unit='pt')')', legend_title='TextElement(hjust='0')', legend_key_size='Unit(1.2, 'lines')', legend_text_align='nan', strip_switch_pad_grid='Unit(0.1, 'cm')', legend_key='RectElement(colour='white', fill='grey95')', legend_key_width='nan', legend_key_height='nan', legend_box='nan', axis_text_x='TextElement(margin='Margin(t=2.2, r=0.0, b=0.0, l=0.0, unit='pt')', vjust='1')', axis_title_x='TextElement(margin='Margin(t=4.4, r=0.0, b=2.2, l=0.0, unit='pt')')', legend_position='right', plot_margin='Margin(t=5.5, r=5.5, b=5.5, l=5.5, unit='pt')', plot_caption='TextElement(size='Rel(0.9)', hjust='1', margin='Margin(t=4.95, r=0.0, b=0.0, l=0.0, unit='pt')')', axis_ticks='LineElement(colour='grey20')', axis_text='TextElement(size='Rel(0.8)', colour='grey30')', legend_margin='Unit(0.2, 'cm')', strip_background='RectElement(colour='nan', fill='grey85')', strip_text='TextElement(size='Rel(0.8)', colour='grey10')', panel_grid_minor='LineElement(size='0.25', colour='white')', plot_background='RectElement(colour='white')', line='LineElement(linetype='1', size='0.5', lineend='butt', colour='black')', strip_text_x='TextElement(margin='Margin(t=5.5, r=0.0, b=5.5, l=0.0, unit='pt')')', legend_justification='center', axis_line_x='BlankElement()', panel_grid_major='LineElement(colour='white')', strip_switch_pad_wrap='Unit(0.1, 'cm')', legend_background='RectElement(colour='nan')', legend_text='TextElement(size='Rel(0.8)')', rect='RectElement(linetype='1', size='0.5', colour='black', fill='white')', legend_direction='nan', axis_line_y='BlankElement()', axis_ticks_length='Unit(2.75, 'pt')', plot_title='TextElement(size='Rel(1.2)', hjust='0', margin='Margin(t=0.0, r=0.0, b=6.6, l=0.0, unit='pt')')', plot_subtitle='TextElement(size='Rel(0.9)', hjust='0', margin='Margin(t=0.0, r=0.0, b=4.95, l=0.0, unit='pt')')')"
      ]
     },
     "execution_count": 33,
     "metadata": {},
     "output_type": "execute_result"
    }
   ],
   "source": [
    "tg = theme_grey()\n",
    "tg"
   ]
  },
  {
   "cell_type": "code",
   "execution_count": 34,
   "metadata": {
    "collapsed": false
   },
   "outputs": [
    {
     "data": {
      "text/plain": [
       "TextElement(size='8.8', hjust='0.5', face='plain', lineheight='0.9', vjust='0.5', angle='0', family='', margin='Margin(t=0, r=0, b=0, l=0, unit='pt')', colour='grey30')"
      ]
     },
     "execution_count": 34,
     "metadata": {},
     "output_type": "execute_result"
    }
   ],
   "source": [
    "tg.element('axis_text')"
   ]
  },
  {
   "cell_type": "code",
   "execution_count": 35,
   "metadata": {
    "collapsed": false
   },
   "outputs": [
    {
     "data": {
      "text/plain": [
       "TextElement(size='Rel(0.8)', colour='grey30')"
      ]
     },
     "execution_count": 35,
     "metadata": {},
     "output_type": "execute_result"
    }
   ],
   "source": [
    "tg['axis_text']"
   ]
  },
  {
   "cell_type": "code",
   "execution_count": 36,
   "metadata": {
    "collapsed": false
   },
   "outputs": [
    {
     "data": {
      "text/plain": [
       "TextElement(size='Rel(1.6)', colour='grey30')"
      ]
     },
     "execution_count": 36,
     "metadata": {},
     "output_type": "execute_result"
    }
   ],
   "source": [
    "nt = tg + theme(axis_text=element_text(size=Rel(2)))\n",
    "nt['axis_text']"
   ]
  },
  {
   "cell_type": "code",
   "execution_count": 37,
   "metadata": {
    "collapsed": false
   },
   "outputs": [
    {
     "data": {
      "text/plain": [
       "TextElement(size='17.6', hjust='0.5', face='plain', lineheight='0.9', vjust='0.5', angle='0', family='', margin='Margin(t=0, r=0, b=0, l=0, unit='pt')', colour='grey30')"
      ]
     },
     "execution_count": 37,
     "metadata": {},
     "output_type": "execute_result"
    }
   ],
   "source": [
    "nt.element('axis_text')"
   ]
  },
  {
   "cell_type": "code",
   "execution_count": 38,
   "metadata": {
    "collapsed": false
   },
   "outputs": [
    {
     "data": {
      "text/plain": [
       "Theme(complete=False, validate=True, axis_text='TextElement(size='Rel(11.0)')')"
      ]
     },
     "execution_count": 38,
     "metadata": {},
     "output_type": "execute_result"
    }
   ],
   "source": [
    "theme(axis_text=element_text(size=Rel(2))) + theme(axis_text=element_text(size=Rel(5.5)))"
   ]
  },
  {
   "cell_type": "code",
   "execution_count": 39,
   "metadata": {
    "collapsed": true
   },
   "outputs": [],
   "source": [
    "from ggpy.margins import Margin\n",
    "from ggpy.unit import Unit"
   ]
  },
  {
   "cell_type": "code",
   "execution_count": 40,
   "metadata": {
    "collapsed": false
   },
   "outputs": [
    {
     "data": {
      "text/plain": [
       "Margin(t=1, r=1, b=2, l=2, unit='cm')"
      ]
     },
     "execution_count": 40,
     "metadata": {},
     "output_type": "execute_result"
    }
   ],
   "source": [
    "b = Margin(1, 1, 2, 2, unit=\"cm\")\n",
    "b"
   ]
  },
  {
   "cell_type": "code",
   "execution_count": 41,
   "metadata": {
    "collapsed": false
   },
   "outputs": [
    {
     "data": {
      "text/plain": [
       "Unit([1 2 3 4], 'pt')"
      ]
     },
     "execution_count": 41,
     "metadata": {},
     "output_type": "execute_result"
    }
   ],
   "source": [
    "a = Unit([1,2,3,4], unit=\"pt\")\n",
    "a"
   ]
  },
  {
   "cell_type": "code",
   "execution_count": 42,
   "metadata": {
    "collapsed": false
   },
   "outputs": [
    {
     "data": {
      "text/plain": [
       "Unit([ 4  8 12 16], 'pt')"
      ]
     },
     "execution_count": 42,
     "metadata": {},
     "output_type": "execute_result"
    }
   ],
   "source": [
    "a * 4"
   ]
  },
  {
   "cell_type": "code",
   "execution_count": 43,
   "metadata": {
    "collapsed": false
   },
   "outputs": [
    {
     "data": {
      "text/plain": [
       "Margin(t=4, r=4, b=8, l=8, unit='cm')"
      ]
     },
     "execution_count": 43,
     "metadata": {},
     "output_type": "execute_result"
    }
   ],
   "source": [
    "4 * b"
   ]
  },
  {
   "cell_type": "code",
   "execution_count": 44,
   "metadata": {
    "collapsed": false
   },
   "outputs": [
    {
     "data": {
      "text/plain": [
       "Unit([ 0.4  0.8  1.2  1.6], 'pt')"
      ]
     },
     "execution_count": 44,
     "metadata": {},
     "output_type": "execute_result"
    }
   ],
   "source": [
    "a * Rel(0.4)"
   ]
  },
  {
   "cell_type": "code",
   "execution_count": 46,
   "metadata": {
    "collapsed": false
   },
   "outputs": [
    {
     "data": {
      "text/plain": [
       "Margin(t=0.4, r=0.4, b=0.8, l=0.8, unit='cm')"
      ]
     },
     "execution_count": 46,
     "metadata": {},
     "output_type": "execute_result"
    }
   ],
   "source": [
    "Rel(0.4) * b"
   ]
  },
  {
   "cell_type": "code",
   "execution_count": 47,
   "metadata": {
    "collapsed": false
   },
   "outputs": [
    {
     "data": {
      "text/plain": [
       "Margin(t=2.2, r=2.2, b=4.4, l=4.4, unit='cm')"
      ]
     },
     "execution_count": 47,
     "metadata": {},
     "output_type": "execute_result"
    }
   ],
   "source": [
    "b * Rel(2.2)"
   ]
  }
 ],
 "metadata": {
  "kernelspec": {
   "display_name": "Python 3",
   "language": "python",
   "name": "python3"
  },
  "language_info": {
   "codemirror_mode": {
    "name": "ipython",
    "version": 3
   },
   "file_extension": ".py",
   "mimetype": "text/x-python",
   "name": "python",
   "nbconvert_exporter": "python",
   "pygments_lexer": "ipython3",
   "version": "3.4.2"
  }
 },
 "nbformat": 4,
 "nbformat_minor": 0
}
